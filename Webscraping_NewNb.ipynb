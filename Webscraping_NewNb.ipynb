{
  "nbformat": 4,
  "nbformat_minor": 0,
  "metadata": {
    "colab": {
      "name": "Webscraping-NewNb.ipynb",
      "provenance": [],
      "authorship_tag": "ABX9TyMUH+qTmiB3ONpe87MZiFeI",
      "include_colab_link": true
    },
    "kernelspec": {
      "name": "python3",
      "display_name": "Python 3"
    }
  },
  "cells": [
    {
      "cell_type": "markdown",
      "metadata": {
        "id": "view-in-github",
        "colab_type": "text"
      },
      "source": [
        "<a href=\"https://colab.research.google.com/github/manvendra7/CodegnanWebscraping/blob/main/Webscraping_NewNb.ipynb\" target=\"_parent\"><img src=\"https://colab.research.google.com/assets/colab-badge.svg\" alt=\"Open In Colab\"/></a>"
      ]
    },
    {
      "cell_type": "code",
      "metadata": {
        "id": "yc_rs4N0wa58"
      },
      "source": [
        "import requests\r\n",
        "from bs4 import BeautifulSoup\r\n",
        "import time\r\n",
        "from IPython.display import clear_output\r\n",
        "base_url = 'https://www.makaan.com/hyderabad-residential-property/buy-property-in-hyderabad-city?page='"
      ],
      "execution_count": null,
      "outputs": []
    },
    {
      "cell_type": "code",
      "metadata": {
        "id": "CGQsJcL1w3ta"
      },
      "source": [
        "def get_seller_info(soup):\r\n",
        "  \r\n",
        "  ''' Function for scraping seller information\r\n",
        "  Arguments :\r\n",
        "    soup - soup object from beautifulsoup\r\n",
        "  Returns :\r\n",
        "    s_info -  seller info\r\n",
        "  '''\r\n",
        "  s_inf = soup.find_all('span',attrs={'class' : 'seller-type'})\r\n",
        "  s_info = [s.text for s in s_inf]\r\n",
        "  return s_info\r\n",
        "\r\n",
        "def get_bhk(soup):\r\n",
        "  bhk_l = soup.find_all('a',attrs={'data-type' : 'listing-link'})\r\n",
        "  bhk = [x.span.text.strip() for x in bhk_l]\r\n",
        "  return bhk\r\n",
        "\r\n",
        "def get_price(soup):\r\n",
        "  prc_l = soup.find_all('div',attrs={'data-type' : 'price-link'})\r\n",
        "  price = [i.text for i in prc_l]\r\n",
        "  return price\r\n",
        "\r\n",
        "def get_locality(soup):\r\n",
        "  loc = soup.find_all('span',attrs={'itemprop':'addressLocality'})\r\n",
        "  locality = [i.text for i in loc]\r\n",
        "  return locality\r\n",
        "\r\n",
        "def get_area_sqft(soup):\r\n",
        "  a = soup.find_all('td',attrs={'class':'lbl rate'})\r\n",
        "  area_sqft = [i.text for i in a]\r\n",
        "  return area_sqft\r\n",
        "\r\n",
        "def get_area(soup):\r\n",
        "  ar = soup.find_all('td',attrs={'class':'size'})\r\n",
        "  area = [i.text for i in ar]\r\n",
        "  return area\r\n",
        "\r\n",
        "def get_construction_status(soup):\r\n",
        "  st = soup.find_all('td',attrs={'class':'val'})\r\n",
        "  status = [i.text for i in st]\r\n",
        "  return status\r\n",
        "\r\n",
        "def get_no_bathrooms(soup):\r\n",
        "  bh = soup.find_all('ul',attrs={'class':'listing-details'})\r\n",
        "  b_rooms = []\r\n",
        "  for j in bh:\r\n",
        "    try:\r\n",
        "      b_rooms.append(j.li.text.split(' ')[0])\r\n",
        "    except AttributeError:\r\n",
        "      b_rooms.append('None') \r\n",
        "  return b_rooms\r\n"
      ],
      "execution_count": null,
      "outputs": []
    },
    {
      "cell_type": "code",
      "metadata": {
        "id": "TUu4Emtbw3w5"
      },
      "source": [
        "def scrapedata(url,num_pages):\r\n",
        "\r\n",
        "  global base_url\r\n",
        "\r\n",
        "  sel_info = []\r\n",
        "  no_bhk= []\r\n",
        "  price = []\r\n",
        "  area = []\r\n",
        "  locality = []\r\n",
        "  area_sqft = []\r\n",
        "  status = []\r\n",
        "  bathrooms = []\r\n",
        "\r\n",
        "  for i in range(1,num_pages):\r\n",
        "\r\n",
        "    time.sleep(3)\r\n",
        "    print(f'Page No : {i}')\r\n",
        "    clear_output(wait=True)\r\n",
        "\r\n",
        "    url = base_url + str(i)\r\n",
        "    request = requests.get(url)\r\n",
        "    soup = BeautifulSoup(request.content,'html')\r\n",
        "\r\n",
        "    seller_info = get_seller_info(soup)\r\n",
        "    for i in seller_info:\r\n",
        "      sel_info.append(i)\r\n",
        "     \r\n",
        "\r\n",
        "    bhk =get_bhk(soup)\r\n",
        "    for i in bhk:\r\n",
        "      no_bhk.append(i)\r\n",
        "\r\n",
        "    prc = get_price(soup)\r\n",
        "    for i in prc:\r\n",
        "      price.append(i)\r\n",
        "\r\n",
        "    ara = get_area(soup)\r\n",
        "    for i in ara:\r\n",
        "      area.append(i)\r\n",
        "\r\n",
        "    ar_sqft = get_area_sqft(soup)\r\n",
        "    for i in ar_sqft:\r\n",
        "      area_sqft.append(i)\r\n",
        "\r\n",
        "    loc = get_locality(soup)\r\n",
        "    for i in loc:\r\n",
        "      locality.append(i)\r\n",
        "\r\n",
        "    bathrms = get_no_bathrooms(soup)\r\n",
        "    for i in bathrms:\r\n",
        "      bathrooms.append(i)\r\n",
        "\r\n",
        "    sts = get_construction_status(soup)\r\n",
        "    for i in sts:\r\n",
        "      status.append(i)\r\n",
        "\r\n",
        "  return sel_info,no_bhk,price,area,locality,area_sqft,bathrooms,status\r\n"
      ],
      "execution_count": null,
      "outputs": []
    },
    {
      "cell_type": "code",
      "metadata": {
        "colab": {
          "base_uri": "https://localhost:8080/"
        },
        "id": "ioEREbAEw30E",
        "outputId": "c774b1f5-ceca-4b0a-88e9-db7d696dcf32"
      },
      "source": [
        "sel_info,no_bhk,price,area,locality,area_sqft,bathrooms,status = scrapedata(base_url,20)"
      ],
      "execution_count": null,
      "outputs": [
        {
          "output_type": "stream",
          "text": [
            "Page No : 19\n"
          ],
          "name": "stdout"
        }
      ]
    },
    {
      "cell_type": "code",
      "metadata": {
        "id": "tQEf1rqzSOkF"
      },
      "source": [
        "import pandas as pd\r\n",
        "data = pd.DataFrame({'sel_info' : sel_info,\r\n",
        "                     'no_bhk' : no_bhk,\r\n",
        "                     'price' : price,\r\n",
        "                     'area' : area,\r\n",
        "                     'locality' : locality,\r\n",
        "                     'area_sqft' : area_sqft,\r\n",
        "                     'bathrooms' : bathrooms,\r\n",
        "                     'status' : status\r\n",
        "                     })"
      ],
      "execution_count": null,
      "outputs": []
    },
    {
      "cell_type": "code",
      "metadata": {
        "colab": {
          "base_uri": "https://localhost:8080/",
          "height": 417
        },
        "id": "gqP6crhVw4Cy",
        "outputId": "5780eff4-1d29-47d0-9427-540a21fef33d"
      },
      "source": [
        "data"
      ],
      "execution_count": null,
      "outputs": [
        {
          "output_type": "execute_result",
          "data": {
            "text/html": [
              "<div>\n",
              "<style scoped>\n",
              "    .dataframe tbody tr th:only-of-type {\n",
              "        vertical-align: middle;\n",
              "    }\n",
              "\n",
              "    .dataframe tbody tr th {\n",
              "        vertical-align: top;\n",
              "    }\n",
              "\n",
              "    .dataframe thead th {\n",
              "        text-align: right;\n",
              "    }\n",
              "</style>\n",
              "<table border=\"1\" class=\"dataframe\">\n",
              "  <thead>\n",
              "    <tr style=\"text-align: right;\">\n",
              "      <th></th>\n",
              "      <th>sel_info</th>\n",
              "      <th>no_bhk</th>\n",
              "      <th>price</th>\n",
              "      <th>area</th>\n",
              "      <th>locality</th>\n",
              "      <th>area_sqft</th>\n",
              "      <th>bathrooms</th>\n",
              "      <th>status</th>\n",
              "    </tr>\n",
              "  </thead>\n",
              "  <tbody>\n",
              "    <tr>\n",
              "      <th>0</th>\n",
              "      <td>OWNER</td>\n",
              "      <td>3</td>\n",
              "      <td>1.6 Cr</td>\n",
              "      <td>2150</td>\n",
              "      <td>Hyder Nagar</td>\n",
              "      <td>7,441 / sq ft</td>\n",
              "      <td>3</td>\n",
              "      <td>Ready to move</td>\n",
              "    </tr>\n",
              "    <tr>\n",
              "      <th>1</th>\n",
              "      <td>OWNER</td>\n",
              "      <td>2</td>\n",
              "      <td>48 L</td>\n",
              "      <td>1170</td>\n",
              "      <td>Hayathnagar</td>\n",
              "      <td>4,102 / sq ft</td>\n",
              "      <td>2</td>\n",
              "      <td>Under Construction</td>\n",
              "    </tr>\n",
              "    <tr>\n",
              "      <th>2</th>\n",
              "      <td>OWNER</td>\n",
              "      <td>3</td>\n",
              "      <td>28.6 L</td>\n",
              "      <td>1100</td>\n",
              "      <td>Kollur</td>\n",
              "      <td>2,600 / sq ft</td>\n",
              "      <td>2</td>\n",
              "      <td>Under Construction</td>\n",
              "    </tr>\n",
              "    <tr>\n",
              "      <th>3</th>\n",
              "      <td>OWNER</td>\n",
              "      <td>1</td>\n",
              "      <td>20 L</td>\n",
              "      <td>660</td>\n",
              "      <td>Padmarao Nagar</td>\n",
              "      <td>3,030 / sq ft</td>\n",
              "      <td>1</td>\n",
              "      <td>Ready to move</td>\n",
              "    </tr>\n",
              "    <tr>\n",
              "      <th>4</th>\n",
              "      <td>OWNER</td>\n",
              "      <td>3</td>\n",
              "      <td>3.5 Cr</td>\n",
              "      <td>4500</td>\n",
              "      <td>Bandlaguda Jagir</td>\n",
              "      <td>7,777 / sq ft</td>\n",
              "      <td>4</td>\n",
              "      <td>Ready to move</td>\n",
              "    </tr>\n",
              "    <tr>\n",
              "      <th>...</th>\n",
              "      <td>...</td>\n",
              "      <td>...</td>\n",
              "      <td>...</td>\n",
              "      <td>...</td>\n",
              "      <td>...</td>\n",
              "      <td>...</td>\n",
              "      <td>...</td>\n",
              "      <td>...</td>\n",
              "    </tr>\n",
              "    <tr>\n",
              "      <th>375</th>\n",
              "      <td>BUILDER</td>\n",
              "      <td>2</td>\n",
              "      <td>59.69 L</td>\n",
              "      <td>1270</td>\n",
              "      <td>Kompally</td>\n",
              "      <td>4,700 / sq ft</td>\n",
              "      <td>Possession</td>\n",
              "      <td>Under Construction</td>\n",
              "    </tr>\n",
              "    <tr>\n",
              "      <th>376</th>\n",
              "      <td>BUILDER</td>\n",
              "      <td>3</td>\n",
              "      <td>87.65 L</td>\n",
              "      <td>1865</td>\n",
              "      <td>Kompally</td>\n",
              "      <td>4,700 / sq ft</td>\n",
              "      <td>Possession</td>\n",
              "      <td>Under Construction</td>\n",
              "    </tr>\n",
              "    <tr>\n",
              "      <th>377</th>\n",
              "      <td>BUILDER</td>\n",
              "      <td>2</td>\n",
              "      <td>59.45 L</td>\n",
              "      <td>1265</td>\n",
              "      <td>Kompally</td>\n",
              "      <td>4,700 / sq ft</td>\n",
              "      <td>Possession</td>\n",
              "      <td>Under Construction</td>\n",
              "    </tr>\n",
              "    <tr>\n",
              "      <th>378</th>\n",
              "      <td>BUILDER</td>\n",
              "      <td>3</td>\n",
              "      <td>85.14 L</td>\n",
              "      <td>1935</td>\n",
              "      <td>Bachupally</td>\n",
              "      <td>4,400 / sq ft</td>\n",
              "      <td>Possession</td>\n",
              "      <td>Under Construction</td>\n",
              "    </tr>\n",
              "    <tr>\n",
              "      <th>379</th>\n",
              "      <td>BUILDER</td>\n",
              "      <td>2</td>\n",
              "      <td>47.52 L</td>\n",
              "      <td>1080</td>\n",
              "      <td>Bachupally</td>\n",
              "      <td>4,400 / sq ft</td>\n",
              "      <td>Possession</td>\n",
              "      <td>Under Construction</td>\n",
              "    </tr>\n",
              "  </tbody>\n",
              "</table>\n",
              "<p>380 rows × 8 columns</p>\n",
              "</div>"
            ],
            "text/plain": [
              "    sel_info no_bhk     price  ...      area_sqft   bathrooms              status\n",
              "0      OWNER      3    1.6 Cr  ...  7,441 / sq ft           3       Ready to move\n",
              "1      OWNER      2      48 L  ...  4,102 / sq ft           2  Under Construction\n",
              "2      OWNER      3    28.6 L  ...  2,600 / sq ft           2  Under Construction\n",
              "3      OWNER      1      20 L  ...  3,030 / sq ft           1       Ready to move\n",
              "4      OWNER      3    3.5 Cr  ...  7,777 / sq ft           4       Ready to move\n",
              "..       ...    ...       ...  ...            ...         ...                 ...\n",
              "375  BUILDER      2   59.69 L  ...  4,700 / sq ft  Possession  Under Construction\n",
              "376  BUILDER      3   87.65 L  ...  4,700 / sq ft  Possession  Under Construction\n",
              "377  BUILDER      2   59.45 L  ...  4,700 / sq ft  Possession  Under Construction\n",
              "378  BUILDER      3   85.14 L  ...  4,400 / sq ft  Possession  Under Construction\n",
              "379  BUILDER      2   47.52 L  ...  4,400 / sq ft  Possession  Under Construction\n",
              "\n",
              "[380 rows x 8 columns]"
            ]
          },
          "metadata": {
            "tags": []
          },
          "execution_count": 9
        }
      ]
    },
    {
      "cell_type": "code",
      "metadata": {
        "id": "VtxvtVbMw4GT"
      },
      "source": [
        "data.to_csv('scarped_data.csv')"
      ],
      "execution_count": null,
      "outputs": []
    },
    {
      "cell_type": "code",
      "metadata": {
        "id": "LPb9ae2Ow4Yu"
      },
      "source": [
        ""
      ],
      "execution_count": null,
      "outputs": []
    },
    {
      "cell_type": "code",
      "metadata": {
        "id": "lCUDorxcw609"
      },
      "source": [
        ""
      ],
      "execution_count": null,
      "outputs": []
    },
    {
      "cell_type": "code",
      "metadata": {
        "id": "LODG8xnLw4cT"
      },
      "source": [
        ""
      ],
      "execution_count": null,
      "outputs": []
    }
  ]
}